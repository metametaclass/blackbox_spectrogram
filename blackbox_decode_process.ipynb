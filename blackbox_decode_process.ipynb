{
 "cells": [
  {
   "cell_type": "code",
   "execution_count": null,
   "metadata": {},
   "outputs": [],
   "source": [
    "%matplotlib qt\n",
    "\n",
    "import numpy as np\n",
    "import pandas as pd\n",
    "import matplotlib.pyplot as plt\n",
    "from helpers.ssa import SSA\n",
    "from helpers.blackbox_gyro import init_figure_settings,show_axes, show_axes_v2,calc_max_noise_regression\n",
    "\n",
    "init_figure_settings()\n"
   ]
  },
  {
   "cell_type": "code",
   "execution_count": null,
   "metadata": {},
   "outputs": [],
   "source": [
    "#blackbox_decode btfl_001.bbl \n",
    "data = pd.read_csv('data\\\\btfl_001.bbl.csv', encoding='cp1251', decimal='.').rename(columns=lambda x: x.strip())\n",
    "print(data.columns)"
   ]
  },
  {
   "cell_type": "code",
   "execution_count": null,
   "metadata": {},
   "outputs": [],
   "source": [
    "data['time (us)'] = (data['time (us)'] - data['time (us)'][0])/1000000\n",
    "#print(data.iloc[0,:].values.dtype)\n",
    "print(data.shape)\n",
    "#example data\n",
    "data[0:5]"
   ]
  },
  {
   "cell_type": "code",
   "execution_count": null,
   "metadata": {},
   "outputs": [],
   "source": [
    "#time step\n",
    "data['time (us)'].diff()[0:5]"
   ]
  },
  {
   "cell_type": "code",
   "execution_count": null,
   "metadata": {},
   "outputs": [],
   "source": [
    "start=0\n",
    "stop=len(data)\n",
    "samplerate=4096.0\n",
    "NFFT=1024"
   ]
  },
  {
   "cell_type": "code",
   "execution_count": null,
   "metadata": {},
   "outputs": [],
   "source": [
    "show_axes_v2(data,start,stop,samplerate,['debug[0]','debug[1]','debug[2]'],'gyro_scaled',NFFT)\n",
    "show_axes_v2(data,start,stop,samplerate,['gyroADC[0]','gyroADC[1]','gyroADC[2]'],'filtered gyro',NFFT)\n",
    "\n",
    "show_axes_v2(data,start,stop,samplerate,['debug[2]'],'gyro_scaled',NFFT)\n",
    "show_axes_v2(data,start,stop,samplerate,['gyroADC[2]'],'filtered gyro',NFFT)\n",
    "#show_axes_v2(data,start,stop,samplerate,['motor[0]','motor[1]','motor[2]','motor[3]'],'',NFFT)\n",
    "#show_axes_v2(data,start,stop,samplerate,['axisD[0]','axisD[1]'],'axisD',NFFT)"
   ]
  },
  {
   "cell_type": "code",
   "execution_count": null,
   "metadata": {},
   "outputs": [],
   "source": [
    "#draw metric against time\n",
    "plt.figure()\n",
    "plt.plot(data['time (us)'], data['axisD[0]'])"
   ]
  },
  {
   "cell_type": "code",
   "execution_count": null,
   "metadata": {},
   "outputs": [],
   "source": [
    "calc_max_noise_regression(data,40000,52700,samplerate,'debug[0]','debug[2]',1024)"
   ]
  },
  {
   "cell_type": "code",
   "execution_count": null,
   "metadata": {},
   "outputs": [],
   "source": [
    "series = data['debug[2]'][51000:54200].values\n",
    "print(series[10:40])\n",
    "L = 400\n",
    "ssa = SSA(series, L)\n",
    "ssa.components_to_df(10).plot()\n",
    "ssa.orig_TS.plot(alpha=0.4)\n",
    "plt.xlabel(\"$t$\")\n",
    "plt.ylabel(r\"$\\tilde{F}_i(t)$\")\n",
    "plt.title(\"ssa\");"
   ]
  },
  {
   "cell_type": "code",
   "execution_count": null,
   "metadata": {},
   "outputs": [],
   "source": [
    "#correlation\n",
    "plt.figure()\n",
    "plt.subplot(1,2,1)\n",
    "ssa.plot_wcorr()\n",
    "plt.subplot(1,2,2)\n",
    "ssa.plot_wcorr(0,12)"
   ]
  },
  {
   "cell_type": "code",
   "execution_count": null,
   "metadata": {},
   "outputs": [],
   "source": [
    "#contribution of components \n",
    "ssa.plot_comp_contrib()\n",
    "#plt.tight_layout()"
   ]
  },
  {
   "cell_type": "code",
   "execution_count": null,
   "metadata": {},
   "outputs": [],
   "source": [
    "groups = [[0,1],[2,3],[4,5],[6],[7,8],[9,10,11,12]]\n",
    "ssa.plot_groups(groups)\n",
    "plt.tight_layout()"
   ]
  },
  {
   "cell_type": "code",
   "execution_count": null,
   "metadata": {},
   "outputs": [],
   "source": [
    "plt.figure()\n",
    "residue_components = [2,3,4,5,7,8]\n",
    "residue = ssa.reconstruct(residue_components)\n",
    "residue.plot()\n",
    "plt.figure()\n",
    "from scipy import signal\n",
    "powerSpectrum, freqencies, time, imageAxis = plt.specgram(residue, Fs=samplerate, NFFT=512)\n"
   ]
  },
  {
   "cell_type": "code",
   "execution_count": null,
   "metadata": {},
   "outputs": [],
   "source": []
  }
 ],
 "metadata": {
  "kernelspec": {
   "display_name": "Python 3",
   "language": "python",
   "name": "python3"
  },
  "language_info": {
   "codemirror_mode": {
    "name": "ipython",
    "version": 3
   },
   "file_extension": ".py",
   "mimetype": "text/x-python",
   "name": "python",
   "nbconvert_exporter": "python",
   "pygments_lexer": "ipython3",
   "version": "3.7.3"
  }
 },
 "nbformat": 4,
 "nbformat_minor": 2
}
