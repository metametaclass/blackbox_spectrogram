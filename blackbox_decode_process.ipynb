{
 "cells": [
  {
   "cell_type": "code",
   "execution_count": null,
   "metadata": {},
   "outputs": [],
   "source": [
    "%matplotlib qt\n",
    "\n",
    "import numpy as np\n",
    "import pandas as pd\n",
    "import matplotlib.pyplot as plt\n",
    "from helpers.ssa import SSA\n",
    "from helpers.blackbox_gyro import init_figure_settings,show_axes, show_axes_v2,calc_max_noise_regression\n",
    "\n",
    "init_figure_settings()\n"
   ]
  },
  {
   "cell_type": "code",
   "execution_count": 2,
   "metadata": {},
   "outputs": [
    {
     "name": "stdout",
     "output_type": "stream",
     "text": [
      "Index(['loopIteration', 'time (us)', 'axisP[0]', 'axisP[1]', 'axisP[2]',\n",
      "       'axisI[0]', 'axisI[1]', 'axisI[2]', 'axisD[0]', 'axisD[1]', 'axisF[0]',\n",
      "       'axisF[1]', 'axisF[2]', 'rcCommand[0]', 'rcCommand[1]', 'rcCommand[2]',\n",
      "       'rcCommand[3]', 'setpoint[0]', 'setpoint[1]', 'setpoint[2]',\n",
      "       'setpoint[3]', 'vbatLatest (V)', 'gyroADC[0]', 'gyroADC[1]',\n",
      "       'gyroADC[2]', 'accSmooth[0]', 'accSmooth[1]', 'accSmooth[2]',\n",
      "       'debug[0]', 'debug[1]', 'debug[2]', 'debug[3]', 'motor[0]', 'motor[1]',\n",
      "       'motor[2]', 'motor[3]', 'flightModeFlags (flags)', 'stateFlags (flags)',\n",
      "       'failsafePhase (flags)', 'rxSignalReceived', 'rxFlightChannelsValid'],\n",
      "      dtype='object')\n"
     ]
    }
   ],
   "source": [
    "#blackbox_decode btfl_001.bbl \n",
    "data = pd.read_csv('data\\\\btfl_001.01.csv', encoding='cp1251', decimal='.').rename(columns=lambda x: x.strip())\n",
    "print(data.columns)"
   ]
  },
  {
   "cell_type": "code",
   "execution_count": 3,
   "metadata": {},
   "outputs": [
    {
     "name": "stdout",
     "output_type": "stream",
     "text": [
      "(168606, 41)\n"
     ]
    },
    {
     "data": {
      "text/html": [
       "<div>\n",
       "<style scoped>\n",
       "    .dataframe tbody tr th:only-of-type {\n",
       "        vertical-align: middle;\n",
       "    }\n",
       "\n",
       "    .dataframe tbody tr th {\n",
       "        vertical-align: top;\n",
       "    }\n",
       "\n",
       "    .dataframe thead th {\n",
       "        text-align: right;\n",
       "    }\n",
       "</style>\n",
       "<table border=\"1\" class=\"dataframe\">\n",
       "  <thead>\n",
       "    <tr style=\"text-align: right;\">\n",
       "      <th></th>\n",
       "      <th>loopIteration</th>\n",
       "      <th>time (us)</th>\n",
       "      <th>axisP[0]</th>\n",
       "      <th>axisP[1]</th>\n",
       "      <th>axisP[2]</th>\n",
       "      <th>axisI[0]</th>\n",
       "      <th>axisI[1]</th>\n",
       "      <th>axisI[2]</th>\n",
       "      <th>axisD[0]</th>\n",
       "      <th>axisD[1]</th>\n",
       "      <th>...</th>\n",
       "      <th>debug[3]</th>\n",
       "      <th>motor[0]</th>\n",
       "      <th>motor[1]</th>\n",
       "      <th>motor[2]</th>\n",
       "      <th>motor[3]</th>\n",
       "      <th>flightModeFlags (flags)</th>\n",
       "      <th>stateFlags (flags)</th>\n",
       "      <th>failsafePhase (flags)</th>\n",
       "      <th>rxSignalReceived</th>\n",
       "      <th>rxFlightChannelsValid</th>\n",
       "    </tr>\n",
       "  </thead>\n",
       "  <tbody>\n",
       "    <tr>\n",
       "      <th>0</th>\n",
       "      <td>0</td>\n",
       "      <td>0.000000</td>\n",
       "      <td>0</td>\n",
       "      <td>0</td>\n",
       "      <td>0</td>\n",
       "      <td>0</td>\n",
       "      <td>0</td>\n",
       "      <td>0</td>\n",
       "      <td>0</td>\n",
       "      <td>0</td>\n",
       "      <td>...</td>\n",
       "      <td>0</td>\n",
       "      <td>138</td>\n",
       "      <td>138</td>\n",
       "      <td>138</td>\n",
       "      <td>138</td>\n",
       "      <td>0</td>\n",
       "      <td>0</td>\n",
       "      <td>IDLE</td>\n",
       "      <td>0</td>\n",
       "      <td>0</td>\n",
       "    </tr>\n",
       "    <tr>\n",
       "      <th>1</th>\n",
       "      <td>1</td>\n",
       "      <td>0.000570</td>\n",
       "      <td>0</td>\n",
       "      <td>0</td>\n",
       "      <td>0</td>\n",
       "      <td>0</td>\n",
       "      <td>0</td>\n",
       "      <td>0</td>\n",
       "      <td>0</td>\n",
       "      <td>0</td>\n",
       "      <td>...</td>\n",
       "      <td>0</td>\n",
       "      <td>138</td>\n",
       "      <td>138</td>\n",
       "      <td>138</td>\n",
       "      <td>138</td>\n",
       "      <td>0</td>\n",
       "      <td>SMALL_ANGLE</td>\n",
       "      <td>IDLE</td>\n",
       "      <td>0</td>\n",
       "      <td>1</td>\n",
       "    </tr>\n",
       "    <tr>\n",
       "      <th>2</th>\n",
       "      <td>2</td>\n",
       "      <td>0.001112</td>\n",
       "      <td>0</td>\n",
       "      <td>0</td>\n",
       "      <td>0</td>\n",
       "      <td>0</td>\n",
       "      <td>0</td>\n",
       "      <td>0</td>\n",
       "      <td>0</td>\n",
       "      <td>0</td>\n",
       "      <td>...</td>\n",
       "      <td>0</td>\n",
       "      <td>138</td>\n",
       "      <td>138</td>\n",
       "      <td>138</td>\n",
       "      <td>138</td>\n",
       "      <td>0</td>\n",
       "      <td>SMALL_ANGLE</td>\n",
       "      <td>IDLE</td>\n",
       "      <td>0</td>\n",
       "      <td>1</td>\n",
       "    </tr>\n",
       "    <tr>\n",
       "      <th>3</th>\n",
       "      <td>3</td>\n",
       "      <td>0.001654</td>\n",
       "      <td>0</td>\n",
       "      <td>0</td>\n",
       "      <td>0</td>\n",
       "      <td>0</td>\n",
       "      <td>0</td>\n",
       "      <td>0</td>\n",
       "      <td>0</td>\n",
       "      <td>0</td>\n",
       "      <td>...</td>\n",
       "      <td>0</td>\n",
       "      <td>138</td>\n",
       "      <td>138</td>\n",
       "      <td>138</td>\n",
       "      <td>138</td>\n",
       "      <td>0</td>\n",
       "      <td>SMALL_ANGLE</td>\n",
       "      <td>IDLE</td>\n",
       "      <td>0</td>\n",
       "      <td>1</td>\n",
       "    </tr>\n",
       "    <tr>\n",
       "      <th>4</th>\n",
       "      <td>4</td>\n",
       "      <td>0.002186</td>\n",
       "      <td>0</td>\n",
       "      <td>0</td>\n",
       "      <td>0</td>\n",
       "      <td>0</td>\n",
       "      <td>0</td>\n",
       "      <td>0</td>\n",
       "      <td>0</td>\n",
       "      <td>0</td>\n",
       "      <td>...</td>\n",
       "      <td>0</td>\n",
       "      <td>138</td>\n",
       "      <td>138</td>\n",
       "      <td>138</td>\n",
       "      <td>138</td>\n",
       "      <td>0</td>\n",
       "      <td>SMALL_ANGLE</td>\n",
       "      <td>IDLE</td>\n",
       "      <td>0</td>\n",
       "      <td>1</td>\n",
       "    </tr>\n",
       "  </tbody>\n",
       "</table>\n",
       "<p>5 rows × 41 columns</p>\n",
       "</div>"
      ],
      "text/plain": [
       "   loopIteration  time (us)  axisP[0]  axisP[1]  axisP[2]  axisI[0]  axisI[1]  \\\n",
       "0              0   0.000000         0         0         0         0         0   \n",
       "1              1   0.000570         0         0         0         0         0   \n",
       "2              2   0.001112         0         0         0         0         0   \n",
       "3              3   0.001654         0         0         0         0         0   \n",
       "4              4   0.002186         0         0         0         0         0   \n",
       "\n",
       "   axisI[2]  axisD[0]  axisD[1]  ...  debug[3]  motor[0]  motor[1]  motor[2]  \\\n",
       "0         0         0         0  ...         0       138       138       138   \n",
       "1         0         0         0  ...         0       138       138       138   \n",
       "2         0         0         0  ...         0       138       138       138   \n",
       "3         0         0         0  ...         0       138       138       138   \n",
       "4         0         0         0  ...         0       138       138       138   \n",
       "\n",
       "   motor[3]  flightModeFlags (flags)  stateFlags (flags)  \\\n",
       "0       138                        0                   0   \n",
       "1       138                        0         SMALL_ANGLE   \n",
       "2       138                        0         SMALL_ANGLE   \n",
       "3       138                        0         SMALL_ANGLE   \n",
       "4       138                        0         SMALL_ANGLE   \n",
       "\n",
       "   failsafePhase (flags)  rxSignalReceived  rxFlightChannelsValid  \n",
       "0                   IDLE                 0                      0  \n",
       "1                   IDLE                 0                      1  \n",
       "2                   IDLE                 0                      1  \n",
       "3                   IDLE                 0                      1  \n",
       "4                   IDLE                 0                      1  \n",
       "\n",
       "[5 rows x 41 columns]"
      ]
     },
     "execution_count": 3,
     "metadata": {},
     "output_type": "execute_result"
    }
   ],
   "source": [
    "data['time (us)'] = (data['time (us)'] - data['time (us)'][0])/1000000\n",
    "#print(data.iloc[0,:].values.dtype)\n",
    "print(data.shape)\n",
    "#example data\n",
    "data[0:5]"
   ]
  },
  {
   "cell_type": "code",
   "execution_count": 4,
   "metadata": {},
   "outputs": [
    {
     "data": {
      "text/plain": [
       "0         NaN\n",
       "1    0.000570\n",
       "2    0.000542\n",
       "3    0.000542\n",
       "4    0.000532\n",
       "Name: time (us), dtype: float64"
      ]
     },
     "execution_count": 4,
     "metadata": {},
     "output_type": "execute_result"
    }
   ],
   "source": [
    "#time step\n",
    "data['time (us)'].diff()[0:5]"
   ]
  },
  {
   "cell_type": "code",
   "execution_count": 7,
   "metadata": {},
   "outputs": [],
   "source": [
    "start=0\n",
    "stop=len(data)\n",
    "samplerate=2048.0\n",
    "NFFT=1024"
   ]
  },
  {
   "cell_type": "code",
   "execution_count": 9,
   "metadata": {},
   "outputs": [],
   "source": [
    "show_axes_v2(data,start,stop,samplerate,['debug[0]','debug[1]','debug[2]'],'gyro_scaled',NFFT)\n",
    "show_axes_v2(data,start,stop,samplerate,['gyroADC[0]','gyroADC[1]','gyroADC[2]'],'filtered gyro',NFFT)\n",
    "\n",
    "show_axes_v2(data,start,stop,samplerate,['debug[2]'],'gyro_scaled',NFFT)\n",
    "show_axes_v2(data,start,stop,samplerate,['gyroADC[2]'],'filtered gyro',NFFT)\n"
   ]
  },
  {
   "cell_type": "code",
   "execution_count": null,
   "metadata": {},
   "outputs": [],
   "source": [
    "#draw metric against time\n",
    "plt.figure()\n",
    "plt.plot(data['time (us)'], data['axisD[0]'])"
   ]
  },
  {
   "cell_type": "code",
   "execution_count": 11,
   "metadata": {},
   "outputs": [
    {
     "name": "stdout",
     "output_type": "stream",
     "text": [
      "LinregressResult(slope=-13.411585365853659, intercept=3221.591463414634, rvalue=-0.995668499347377, pvalue=2.3661446870760353e-06, stderr=0.5600718462240183)\n"
     ]
    }
   ],
   "source": [
    "#try to find linear dependency between main RPM harmonic (from X axis) and aliased yaw noise(Z axis)\n",
    "start = 45000\n",
    "stop = 52000\n",
    "calc_max_noise_regression(data,start,stop,samplerate,'debug[0]','debug[2]',1024)"
   ]
  },
  {
   "cell_type": "code",
   "execution_count": 12,
   "metadata": {},
   "outputs": [
    {
     "name": "stdout",
     "output_type": "stream",
     "text": [
      "[-25   6  27   8 -31 -17  18  26 -12 -31   0  28  20 -22 -28  10  32   9\n",
      " -21 -13  20  34  -6 -31  -9  21  12 -19 -32   3]\n"
     ]
    }
   ],
   "source": [
    "#experimental: try to separate flight data and vibrations with singular-spectrum analysis\n",
    "series = data['debug[2]'][start:stop].values\n",
    "print(series[10:40])\n",
    "L = 400\n",
    "ssa = SSA(series, L)\n",
    "ssa.components_to_df(10).plot()\n",
    "ssa.orig_TS.plot(alpha=0.4)\n",
    "plt.xlabel(\"$t$\")\n",
    "plt.ylabel(r\"$\\tilde{F}_i(t)$\")\n",
    "plt.title(\"ssa\");"
   ]
  },
  {
   "cell_type": "code",
   "execution_count": 13,
   "metadata": {},
   "outputs": [],
   "source": [
    "#correlation\n",
    "plt.figure()\n",
    "plt.subplot(1,2,1)\n",
    "ssa.plot_wcorr()\n",
    "plt.subplot(1,2,2)\n",
    "ssa.plot_wcorr(0,12)"
   ]
  },
  {
   "cell_type": "code",
   "execution_count": null,
   "metadata": {},
   "outputs": [],
   "source": [
    "#contribution of components \n",
    "ssa.plot_comp_contrib()\n",
    "#plt.tight_layout()"
   ]
  },
  {
   "cell_type": "code",
   "execution_count": null,
   "metadata": {},
   "outputs": [],
   "source": [
    "groups = [[0,1],[2,3],[4,5],[6],[7,8],[9,10,11,12]]\n",
    "ssa.plot_groups(groups)\n",
    "plt.tight_layout()"
   ]
  },
  {
   "cell_type": "code",
   "execution_count": null,
   "metadata": {},
   "outputs": [],
   "source": [
    "plt.figure()\n",
    "residue_components = [2,3,4,5,7,8]\n",
    "residue = ssa.reconstruct(residue_components)\n",
    "residue.plot()\n",
    "plt.figure()\n",
    "from scipy import signal\n",
    "powerSpectrum, freqencies, time, imageAxis = plt.specgram(residue, Fs=samplerate, NFFT=512)\n"
   ]
  },
  {
   "cell_type": "code",
   "execution_count": null,
   "metadata": {},
   "outputs": [],
   "source": []
  }
 ],
 "metadata": {
  "kernelspec": {
   "display_name": "Python 3",
   "language": "python",
   "name": "python3"
  },
  "language_info": {
   "codemirror_mode": {
    "name": "ipython",
    "version": 3
   },
   "file_extension": ".py",
   "mimetype": "text/x-python",
   "name": "python",
   "nbconvert_exporter": "python",
   "pygments_lexer": "ipython3",
   "version": "3.7.3"
  }
 },
 "nbformat": 4,
 "nbformat_minor": 2
}
